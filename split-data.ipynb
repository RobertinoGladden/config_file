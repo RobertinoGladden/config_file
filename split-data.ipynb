{
 "cells": [
  {
   "cell_type": "markdown",
   "id": "131b3107",
   "metadata": {},
   "source": [
    "## Splitting Data Notebook\n",
    "\n",
    "This Notebook is for splitting the data from the raw labelling file into training, validation and testing sets."
   ]
  },
  {
   "cell_type": "code",
   "execution_count": 1,
   "id": "e8005d82",
   "metadata": {},
   "outputs": [],
   "source": [
    "import os\n",
    "import random\n",
    "import shutil"
   ]
  },
  {
   "cell_type": "code",
   "execution_count": 4,
   "id": "c88f5cbe",
   "metadata": {},
   "outputs": [],
   "source": [
    "DATA_DIR = r\"C:\\Users\\lapt1\\Downloads\\Hailo AI\\ppe-detection\" # Ganti dengan path ke direktori dataset Anda\n",
    "IMAGES_DIR = os.path.join(DATA_DIR, 'images')\n",
    "LABELS_DIR = os.path.join(DATA_DIR, 'labels')"
   ]
  },
  {
   "cell_type": "code",
   "execution_count": 6,
   "id": "867dc7ad",
   "metadata": {},
   "outputs": [],
   "source": [
    "OUTPUT_BASE_DIR = r'C:\\Users\\lapt1\\Downloads\\Hailo AI\\ppe-dataset' # Direktori output untuk dataset yang sudah dibagi\n",
    "TRAIN_RATIO = 0.8  # 80% untuk training\n",
    "VAL_RATIO = 0.15 # 15% untuk validation\n",
    "TEST_RATIO = 0.05 "
   ]
  },
  {
   "cell_type": "code",
   "execution_count": 10,
   "id": "d73bee10",
   "metadata": {},
   "outputs": [],
   "source": [
    "os.makedirs(os.path.join(OUTPUT_BASE_DIR, 'images', 'train'), exist_ok=True)\n",
    "os.makedirs(os.path.join(OUTPUT_BASE_DIR, 'images', 'val'), exist_ok=True)\n",
    "os.makedirs(os.path.join(OUTPUT_BASE_DIR, 'labels', 'train'), exist_ok=True)\n",
    "os.makedirs(os.path.join(OUTPUT_BASE_DIR, 'labels', 'val'), exist_ok=True)\n",
    "\n",
    "if TEST_RATIO > 0:\n",
    "    os.makedirs(os.path.join(OUTPUT_BASE_DIR, 'images', 'test'), exist_ok=True)\n",
    "    os.makedirs(os.path.join(OUTPUT_BASE_DIR, 'labels', 'test'), exist_ok=True)"
   ]
  },
  {
   "cell_type": "code",
   "execution_count": 11,
   "id": "b7b58dc1",
   "metadata": {},
   "outputs": [],
   "source": [
    "image_files = [f for f in os.listdir(IMAGES_DIR) if f.endswith(('.jpg', '.jpeg', '.png', '.bmp'))]\n",
    "random.shuffle(image_files) # Acak urutan file"
   ]
  },
  {
   "cell_type": "code",
   "execution_count": 12,
   "id": "2e382971",
   "metadata": {},
   "outputs": [],
   "source": [
    "num_images = len(image_files)\n",
    "num_train = int(num_images * TRAIN_RATIO)\n",
    "num_val = int(num_images * VAL_RATIO)\n",
    "num_test = num_images - num_train - num_val # Sisa untuk test\n",
    "\n",
    "train_files = image_files[:num_train]\n",
    "val_files = image_files[num_train : num_train + num_val]\n",
    "test_files = image_files[num_train + num_val :]"
   ]
  },
  {
   "cell_type": "code",
   "execution_count": 13,
   "id": "09550917",
   "metadata": {},
   "outputs": [
    {
     "name": "stdout",
     "output_type": "stream",
     "text": [
      "Total gambar: 768\n",
      "Train: 614 gambar\n",
      "Validation: 115 gambar\n",
      "Test: 39 gambar\n"
     ]
    }
   ],
   "source": [
    "print(f\"Total gambar: {num_images}\")\n",
    "print(f\"Train: {len(train_files)} gambar\")\n",
    "print(f\"Validation: {len(val_files)} gambar\")\n",
    "print(f\"Test: {len(test_files)} gambar\")"
   ]
  },
  {
   "cell_type": "code",
   "execution_count": 14,
   "id": "bffc5a3b",
   "metadata": {},
   "outputs": [
    {
     "name": "stdout",
     "output_type": "stream",
     "text": [
      "Menyalin file training...\n",
      "Menyalin file validation...\n",
      "Menyalin file testing...\n"
     ]
    }
   ],
   "source": [
    "def copy_files(file_list, target_image_dir, target_label_dir):\n",
    "    for fname in file_list:\n",
    "        # Nama file tanpa ekstensi untuk label\n",
    "        base_name = os.path.splitext(fname)[0]\n",
    "        label_fname = base_name + '.txt'\n",
    "\n",
    "        # Salin gambar\n",
    "        shutil.copy(os.path.join(IMAGES_DIR, fname), os.path.join(target_image_dir, fname))\n",
    "        # Salin label\n",
    "        shutil.copy(os.path.join(LABELS_DIR, label_fname), os.path.join(target_label_dir, label_fname))\n",
    "\n",
    "# --- Salin ke Direktori Masing-masing ---\n",
    "print(\"Menyalin file training...\")\n",
    "copy_files(train_files,\n",
    "           os.path.join(OUTPUT_BASE_DIR, 'images', 'train'),\n",
    "           os.path.join(OUTPUT_BASE_DIR, 'labels', 'train'))\n",
    "\n",
    "print(\"Menyalin file validation...\")\n",
    "copy_files(val_files,\n",
    "           os.path.join(OUTPUT_BASE_DIR, 'images', 'val'),\n",
    "           os.path.join(OUTPUT_BASE_DIR, 'labels', 'val'))\n",
    "\n",
    "if TEST_RATIO > 0:\n",
    "    print(\"Menyalin file testing...\")\n",
    "    copy_files(test_files,\n",
    "               os.path.join(OUTPUT_BASE_DIR, 'images', 'test'),\n",
    "               os.path.join(OUTPUT_BASE_DIR, 'labels', 'test'))"
   ]
  },
  {
   "cell_type": "code",
   "execution_count": 15,
   "id": "5e3b4bbb",
   "metadata": {},
   "outputs": [
    {
     "name": "stdout",
     "output_type": "stream",
     "text": [
      "Dataset berhasil dibagi dan disalin!\n"
     ]
    }
   ],
   "source": [
    "shutil.copy(os.path.join(DATA_DIR, 'classes.txt'), os.path.join(OUTPUT_BASE_DIR, 'classes.txt'))\n",
    "print(\"Dataset berhasil dibagi dan disalin!\")"
   ]
  },
  {
   "cell_type": "code",
   "execution_count": null,
   "id": "8169bbcc",
   "metadata": {},
   "outputs": [],
   "source": []
  }
 ],
 "metadata": {
  "kernelspec": {
   "display_name": "Python 3",
   "language": "python",
   "name": "python3"
  },
  "language_info": {
   "codemirror_mode": {
    "name": "ipython",
    "version": 3
   },
   "file_extension": ".py",
   "mimetype": "text/x-python",
   "name": "python",
   "nbconvert_exporter": "python",
   "pygments_lexer": "ipython3",
   "version": "3.10.11"
  }
 },
 "nbformat": 4,
 "nbformat_minor": 5
}
